{
 "cells": [
  {
   "cell_type": "markdown",
   "metadata": {},
   "source": [
    "# Predicting Property Maintenance Fines for City of Detroit\n",
    "\n",
    "This project is based on an assigment from Coursera course [Applied Machine Learning in Python- University of Michigan](https://www.coursera.org/learn/python-machine-learning/home/welcome).  The goal of the project is to predict whether a property maintenance fine will be paid by a violator.  The fines are issued by the city to individuals who allow their properties to remain in a deteriorated condition.  Data has been provided to the course through the [Detroit Open Data Portal](https://data.detroitmi.gov/).  \n",
    "\n",
    "Two data files were provided for training and validating the models: train.csv and test.csv. Each row in these two files corresponds to a single blight ticket, and includes information about when, why, and to whom each ticket was issued. The target variable is compliance, which is True if the ticket was paid early, on time, or within one month of the hearing data, False if the ticket was paid after the hearing date or not at all, and Null if the violator was found not responsible. Compliance, as well as a handful of other variables that will not be available at test-time, are only included in train.csv.\n",
    "\n",
    "Note: All tickets where the violators were found not responsible are not considered during evaluation. They are included in the training set as an additional source of data for visualization, and to enable unsupervised and semi-supervised approaches. However, they are not included in the test set.\n",
    "\n"
   ]
  },
  {
   "cell_type": "code",
   "execution_count": 1,
   "metadata": {
    "collapsed": true
   },
   "outputs": [],
   "source": [
    "import pandas as pd\n",
    "import numpy as np\n",
    "import string\n",
    "from scipy.stats import randint\n",
    "import matplotlib.pyplot as plt\n",
    "import seaborn as sns\n",
    "from sklearn.preprocessing import LabelEncoder, OneHotEncoder, Imputer, LabelBinarizer, Normalizer\n",
    "from sklearn.model_selection import train_test_split, cross_val_score, RandomizedSearchCV\n",
    "from sklearn.ensemble import RandomForestClassifier\n",
    "import pickle\n",
    "from sklearn.externals import joblib\n",
    "%matplotlib inline "
   ]
  },
  {
   "cell_type": "markdown",
   "metadata": {},
   "source": [
    "### Define helper functions for pre-processing and data analysis"
   ]
  },
  {
   "cell_type": "code",
   "execution_count": 2,
   "metadata": {
    "collapsed": true
   },
   "outputs": [],
   "source": [
    "# column comparison\n",
    "def col_comparison(df1, df2):\n",
    "    '''\n",
    "    compare two dataframes to see which columns are in both set, \n",
    "    in set1 only, and in set2 only\n",
    "    arguments: df1, df2\n",
    "    returns: samecols, df1only, df2only\n",
    "    '''\n",
    "    df1Cols = set(list(df1.columns.values))\n",
    "    df2Cols = set(list(df2.columns.values))\n",
    "    samecols = list(df1Cols.intersection(df2Cols))\n",
    "    df1only = list(df1Cols & set(df1Cols ^ df2Cols))\n",
    "    df2only = list(df2Cols & set(df1Cols ^ df2Cols))    \n",
    "    df1name =[x for x in globals() if globals()[x] is df1][0]\n",
    "    df2name =[x for x in globals() if globals()[x] is df2][0]    \n",
    "    print('------ columns in both sets -----')\n",
    "    print(samecols)\n",
    "    print('')\n",
    "    print('------ columns in %s only ----- ' % (df1name))\n",
    "    print(df1only)\n",
    "    print('')\n",
    "    print('------ columns in %s only ----- ' % (df2name))\n",
    "    print(df2only)\n",
    "    \n",
    "    return samecols, df1only, df2only\n",
    "  \n",
    "# basic data info\n",
    "def show_info(df):\n",
    "    '''print out information about dataframe\n",
    "    Argument: dataframe name\n",
    "    Return: none\n",
    "    '''\n",
    "    objectsCols = df.loc[:, df.dtypes == object].columns\n",
    "    #print(df.info())\n",
    "    \n",
    "    print(\"------Description of Dataset -------\" )\n",
    "    print(df.describe())\n",
    "    \n",
    "    print(\"------Description of Dtypes --------\" )\n",
    "    print(df.dtypes)\n",
    "    \n",
    "    print(\"------Grouping by Dtypes --------\" )\n",
    "    print(df.columns.to_series().groupby(df.dtypes).groups)               # group by data types\n",
    "    \n",
    "    print(\"------count of unique values -------\" )\n",
    "    uniqueVals = df.loc[:,objectsCols].apply(lambda x: len(x.unique()))   # print count of unique values for object data types\n",
    "    print(uniqueVals)\n",
    "    \n",
    "    print(\"-----print count for each categorie----\")    \n",
    "    categories = uniqueVals[uniqueVals <= 20].index\n",
    "    for x in categories:\n",
    "        print(\"--count in category \" + x + \"--\")\n",
    "        print(df[x].value_counts())\n",
    "    \n",
    "    print(\"------count of np.nan -------\" )\n",
    "    print(df.isnull().sum())\n",
    "    \n",
    "    print(\"------zero variance numeric columns -------\" )\n",
    "    print(df.std()[df.std() == 0].index.values)\n",
    "    \n",
    "    return\n",
    "\n",
    "# define columns to add drop so train and test set matches\n",
    "def make_cols_match(train, test, y_name):\n",
    "    '''define columns to add drop so two datasets matches\n",
    "    Arguments: train, test, y_name (dataframe 1, dataframe 2, output variable y in quotes)\n",
    "    Returns: train, test\n",
    "    '''\n",
    "    print(\"---columns comparsion prior to change---\")\n",
    "    samecols, df1only, df2only = col_comparison(train, test)\n",
    "    train_y = train[y_name]\n",
    "\n",
    "    # remove columns only in train\n",
    "    train = remove_columns(train, df1only)\n",
    "    \n",
    "    # remove columns only in test\n",
    "    test = remove_columns(test, df2only)\n",
    "    \n",
    "    # append y_name to test and train\n",
    "    train[y_name] = train_y\n",
    "    test[y_name] = '0'\n",
    "\n",
    "    \n",
    "    return train, test\n",
    "\n",
    "# show near-zero variance numeric columns\n",
    "def nearZeroCols(df, threshold):\n",
    "    '''show near-zero variance numeric columns <= to a threshold\n",
    "    Arguments: df, threshold\n",
    "    Returns: array of column names<= threshold\n",
    "    '''\n",
    "    return df.std()[df.std() <= threshold].index.values\n",
    "\n",
    "# change data type\n",
    "def cast_dtype(df, cols, dtype):\n",
    "    ''' \n",
    "    change datatype of dataframe given column names\n",
    "    Arguments: df: dataframe, cols: list of column names [], dtype: data type to cast to i.e.: 'int64', 'float64', 'str'\n",
    "    Returns: dataframe\n",
    "    '''\n",
    "    df[cols] = df[cols].astype(dtype)\n",
    "    \n",
    "    return df  \n",
    "\n",
    "\n",
    "def cast_datetime(df, cols):\n",
    "    '''\n",
    "    change datatype of dataframe to datetime given column names\n",
    "    Arguments: df: dataframe, cols: column names in [' ', ' ']\n",
    "    Returns: dataframe\n",
    "    '''\n",
    "    df.loc[:, cols] = df.loc[:, cols].apply(pd.to_datetime, errors='coerce')\n",
    "    \n",
    "    return df\n",
    " \n",
    "\n",
    "# text processing\n",
    "def process_text(text):\n",
    "    '''\n",
    "    perform a variety of transformations to text\n",
    "    Argument: text\n",
    "    Returns: text\n",
    "    '''\n",
    "    text = text.replace(r'.0', '')                  # remove .0 from the end of strings\n",
    "    text = text.translate(str.maketrans('', '', string.punctuation)) # remove punctuation\n",
    "    text = text.lstrip('0')                         # strip leading 0\n",
    "    text = ' '.join(text.split())                   # strip multiple whitespaces into 1\n",
    "    text = text.strip()                             # strip whitespace\n",
    "    text = text.lower()                             # convert to lower case\n",
    "    \n",
    "    return text\n",
    "\n",
    "def textProcessing(df, cols):\n",
    "    '''\n",
    "    apply transformation of text to specified columns in a dataframe using function 'process_text'\n",
    "    Arguments: dataframe, list of column names to transform\n",
    "    Returns: dataframe'''\n",
    "    \n",
    "    if cols is None: \n",
    "        stringCols = df.loc[:, df.dtypes == object].columns\n",
    "        dateTimeCols = df.select_dtypes(include=['datetime64']).columns\n",
    "        cols = list(set(stringCols)-set(dateTimeCols))\n",
    "    \n",
    "    df.loc[:, cols] = df.loc[:, cols].applymap(lambda x: process_text(x))\n",
    "    \n",
    "    return df\n",
    "\n",
    "# remove selected columns\n",
    "def remove_columns(df, cols):\n",
    "    ''' remove list of columns given a dataframe.  Error will not rise if column names are not in the dataframe\n",
    "    Arguments: dataframe, list of column names\n",
    "    Returns: dataframe'''\n",
    "    \n",
    "    cols = list(set(cols).intersection(df.columns))  # to avoid error, delete the named columns in dataframe's columns\n",
    "    df = df.drop(cols, axis = 1)\n",
    "    return df\n",
    "\n",
    "# keep columns that are in both sets only\n",
    "def keep_columns_in_both_sets(df1, df2):\n",
    "    ''' given two dataframes, only keep columns that are in both dataframes\n",
    "    Arguments: dataframe1, dataframe2\n",
    "    Returns: dataframe1, dataframe2 '''\n",
    "    \n",
    "    cols = list(set(list(df1.columns.values)).intersection(list(df2.columns.values)))\n",
    "    df1 = df1.loc[:,cols]\n",
    "    df2 = df2.loc[:,cols]\n",
    "    return df1, df2\n",
    "\n",
    "# check for common form to signify missing observations, i.e. \"0\" or \"nan\" or \"blank\"\n",
    "def missing_obs_count_by_column(df, cols, stringlist):\n",
    "    ''' count the number of observations per columns (only string columns) in a dataframe\n",
    "    given a list of values to match to \n",
    "    \n",
    "    Arguments: dataframe, columns to search, strings to match\n",
    "    Returns: print out report'''\n",
    "    \n",
    "    if stringlist is None:    \n",
    "        stringlist = ['0', 'nan', '', 'missing', 'none', 'na']\n",
    "    \n",
    "    if cols is None:\n",
    "        stringCols = df.loc[:, df.dtypes == object].columns\n",
    "        dateTimeCols = df.select_dtypes(include=['datetime64']).columns\n",
    "        cols = list(set(stringCols)-set(dateTimeCols))\n",
    "\n",
    "    for string in stringlist:\n",
    "        print('-----' + string + '------')\n",
    "        print(np.sum(df.loc[:, cols].apply(lambda x: x == string)))\n",
    "    return \n",
    "\n",
    "\n",
    "# replace strings\n",
    "def replaceStrings(df, cols, pattern, replaceTo):\n",
    "    ''' given a datframe and columns, replace the values of the observations given a pattern to match, and value to replace to\n",
    "    Arguments: dataframe, columns, pattern to match, value to replace to\n",
    "    Retruns: dataframe\n",
    "    '''\n",
    "    for col in cols:\n",
    "        #df.loc[col] = df.loc[col].replace(pattern, replaceTo)\n",
    "        df[col] = df[col].replace(pattern, replaceTo)\n",
    "    return df\n",
    "\n",
    "\n",
    "# drop near-zero variance numeric columns\n",
    "def drop_features_based_on_std_threshold(df, threshold):\n",
    "    '''given a dataframe, and threshold, drop columns with standard deviations\n",
    "    that are under or equal to the threshold\n",
    "    Arguments: dataframe, threshold\n",
    "    Returns: dataframe '''\n",
    "    \n",
    "    uint8Cols = df.loc[:, df.dtypes == 'uint8'].columns\n",
    "    float64Cols = df.loc[:, df.dtypes == 'float64'].columns\n",
    "    cols = uint8Cols.append(float64Cols)\n",
    "    \n",
    "    stdCalc = df.loc[:,cols].apply(lambda x: np.std(x))\n",
    "    sparseFeatures = stdCalc[stdCalc <= threshold].index\n",
    "    \n",
    "    df = df.drop(sparseFeatures, axis = 1)\n",
    "    return df\n",
    "    \n",
    "    # This implementation is very slow\n",
    "    #df = df.drop(df.std()[df.std() <= threshold].index.values, axis=1)\n",
    "    #return df\n",
    "\n",
    "\n",
    "# show uint8 columns with less than a threshold\n",
    "def show_features_fewer_than_count(df, threshold):\n",
    "    '''\n",
    "    show uint8 columns with less than a threshold\n",
    "    given a dataframe, filter columns that are uin8 (dummy variables)\n",
    "    return series showing features with counts fewer than the threshold\n",
    "    Arguments: dataframe, threshold for filtering count\n",
    "    Return: a filtered named series with counts of none-zeros\n",
    "    '''\n",
    "    \n",
    "    uint8Cols = df.loc[:, df.dtypes == 'uint8'].columns\n",
    "    numCount = df.loc[:,uint8Cols].apply(lambda x: np.sum(x))\n",
    "    sparseFeatures = numCount[numCount <= threshold]\n",
    "    \n",
    "    return sparseFeatures\n",
    "\n",
    "# remove uint8 columns with less than a threshold\n",
    "def remove_features_fewer_than_count(df, threshold):\n",
    "    '''\n",
    "    remove uint8 columns with less than a threshold\n",
    "    given a dataframe, filter columns that are uin8 (dummy variables)\n",
    "    delete sparse features from dataframe\n",
    "    Arguments: dataframe, threshold for filtering count\n",
    "    Return: dataframe\n",
    "    '''\n",
    "    uint8Cols = df.loc[:, df.dtypes == 'uint8'].columns\n",
    "    numCount = df.loc[:,uint8Cols].apply(lambda x: np.sum(x))\n",
    "    sparseFeatures = numCount[numCount <= threshold].index\n",
    "    \n",
    "    df = df.drop(sparseFeatures, axis = 1)\n",
    "    return df\n"
   ]
  },
  {
   "cell_type": "markdown",
   "metadata": {},
   "source": [
    "### Review Data"
   ]
  },
  {
   "cell_type": "markdown",
   "metadata": {},
   "source": [
    "#### Import files"
   ]
  },
  {
   "cell_type": "code",
   "execution_count": 3,
   "metadata": {
    "collapsed": true
   },
   "outputs": [],
   "source": [
    "train_orig = pd.read_csv('train.csv', encoding = 'ISO-8859-1', dtype = object)\n",
    "test = pd.read_csv('test.csv', dtype = object)\n",
    "coord = pd.read_csv('latlons.csv')"
   ]
  },
  {
   "cell_type": "markdown",
   "metadata": {},
   "source": [
    "#### Review summary of data"
   ]
  },
  {
   "cell_type": "code",
   "execution_count": 4,
   "metadata": {},
   "outputs": [
    {
     "data": {
      "text/html": [
       "<div>\n",
       "<style>\n",
       "    .dataframe thead tr:only-child th {\n",
       "        text-align: right;\n",
       "    }\n",
       "\n",
       "    .dataframe thead th {\n",
       "        text-align: left;\n",
       "    }\n",
       "\n",
       "    .dataframe tbody tr th {\n",
       "        vertical-align: top;\n",
       "    }\n",
       "</style>\n",
       "<table border=\"1\" class=\"dataframe\">\n",
       "  <thead>\n",
       "    <tr style=\"text-align: right;\">\n",
       "      <th></th>\n",
       "      <th>ticket_id</th>\n",
       "      <th>agency_name</th>\n",
       "      <th>inspector_name</th>\n",
       "      <th>violator_name</th>\n",
       "      <th>violation_street_number</th>\n",
       "      <th>violation_street_name</th>\n",
       "      <th>violation_zip_code</th>\n",
       "      <th>mailing_address_str_number</th>\n",
       "      <th>mailing_address_str_name</th>\n",
       "      <th>city</th>\n",
       "      <th>...</th>\n",
       "      <th>clean_up_cost</th>\n",
       "      <th>judgment_amount</th>\n",
       "      <th>payment_amount</th>\n",
       "      <th>balance_due</th>\n",
       "      <th>payment_date</th>\n",
       "      <th>payment_status</th>\n",
       "      <th>collection_status</th>\n",
       "      <th>grafitti_status</th>\n",
       "      <th>compliance_detail</th>\n",
       "      <th>compliance</th>\n",
       "    </tr>\n",
       "  </thead>\n",
       "  <tbody>\n",
       "    <tr>\n",
       "      <th>0</th>\n",
       "      <td>22056</td>\n",
       "      <td>Buildings, Safety Engineering &amp; Env Department</td>\n",
       "      <td>Sims, Martinzie</td>\n",
       "      <td>INVESTMENT INC., MIDWEST MORTGAGE</td>\n",
       "      <td>2900.0</td>\n",
       "      <td>TYLER</td>\n",
       "      <td>NaN</td>\n",
       "      <td>3</td>\n",
       "      <td>S. WICKER</td>\n",
       "      <td>CHICAGO</td>\n",
       "      <td>...</td>\n",
       "      <td>0.0</td>\n",
       "      <td>305.0</td>\n",
       "      <td>0.0</td>\n",
       "      <td>305.0</td>\n",
       "      <td>NaN</td>\n",
       "      <td>NO PAYMENT APPLIED</td>\n",
       "      <td>NaN</td>\n",
       "      <td>NaN</td>\n",
       "      <td>non-compliant by no payment</td>\n",
       "      <td>0.0</td>\n",
       "    </tr>\n",
       "    <tr>\n",
       "      <th>1</th>\n",
       "      <td>27586</td>\n",
       "      <td>Buildings, Safety Engineering &amp; Env Department</td>\n",
       "      <td>Williams, Darrin</td>\n",
       "      <td>Michigan, Covenant House</td>\n",
       "      <td>4311.0</td>\n",
       "      <td>CENTRAL</td>\n",
       "      <td>NaN</td>\n",
       "      <td>2959</td>\n",
       "      <td>Martin Luther King</td>\n",
       "      <td>Detroit</td>\n",
       "      <td>...</td>\n",
       "      <td>0.0</td>\n",
       "      <td>855.0</td>\n",
       "      <td>780.0</td>\n",
       "      <td>75.0</td>\n",
       "      <td>2005-06-02 00:00:00</td>\n",
       "      <td>PAID IN FULL</td>\n",
       "      <td>NaN</td>\n",
       "      <td>NaN</td>\n",
       "      <td>compliant by late payment within 1 month</td>\n",
       "      <td>1.0</td>\n",
       "    </tr>\n",
       "    <tr>\n",
       "      <th>2</th>\n",
       "      <td>22062</td>\n",
       "      <td>Buildings, Safety Engineering &amp; Env Department</td>\n",
       "      <td>Sims, Martinzie</td>\n",
       "      <td>SANDERS, DERRON</td>\n",
       "      <td>1449.0</td>\n",
       "      <td>LONGFELLOW</td>\n",
       "      <td>NaN</td>\n",
       "      <td>23658</td>\n",
       "      <td>P.O. BOX</td>\n",
       "      <td>DETROIT</td>\n",
       "      <td>...</td>\n",
       "      <td>0.0</td>\n",
       "      <td>0.0</td>\n",
       "      <td>0.0</td>\n",
       "      <td>0.0</td>\n",
       "      <td>NaN</td>\n",
       "      <td>NO PAYMENT APPLIED</td>\n",
       "      <td>NaN</td>\n",
       "      <td>NaN</td>\n",
       "      <td>not responsible by disposition</td>\n",
       "      <td>NaN</td>\n",
       "    </tr>\n",
       "  </tbody>\n",
       "</table>\n",
       "<p>3 rows × 34 columns</p>\n",
       "</div>"
      ],
      "text/plain": [
       "  ticket_id                                     agency_name    inspector_name  \\\n",
       "0     22056  Buildings, Safety Engineering & Env Department   Sims, Martinzie   \n",
       "1     27586  Buildings, Safety Engineering & Env Department  Williams, Darrin   \n",
       "2     22062  Buildings, Safety Engineering & Env Department   Sims, Martinzie   \n",
       "\n",
       "                       violator_name violation_street_number  \\\n",
       "0  INVESTMENT INC., MIDWEST MORTGAGE                  2900.0   \n",
       "1           Michigan, Covenant House                  4311.0   \n",
       "2                    SANDERS, DERRON                  1449.0   \n",
       "\n",
       "  violation_street_name violation_zip_code mailing_address_str_number  \\\n",
       "0                 TYLER                NaN                          3   \n",
       "1               CENTRAL                NaN                       2959   \n",
       "2            LONGFELLOW                NaN                      23658   \n",
       "\n",
       "  mailing_address_str_name     city    ...     clean_up_cost judgment_amount  \\\n",
       "0                S. WICKER  CHICAGO    ...               0.0           305.0   \n",
       "1       Martin Luther King  Detroit    ...               0.0           855.0   \n",
       "2                 P.O. BOX  DETROIT    ...               0.0             0.0   \n",
       "\n",
       "  payment_amount balance_due         payment_date      payment_status  \\\n",
       "0            0.0       305.0                  NaN  NO PAYMENT APPLIED   \n",
       "1          780.0        75.0  2005-06-02 00:00:00        PAID IN FULL   \n",
       "2            0.0         0.0                  NaN  NO PAYMENT APPLIED   \n",
       "\n",
       "  collection_status grafitti_status                         compliance_detail  \\\n",
       "0               NaN             NaN               non-compliant by no payment   \n",
       "1               NaN             NaN  compliant by late payment within 1 month   \n",
       "2               NaN             NaN            not responsible by disposition   \n",
       "\n",
       "  compliance  \n",
       "0        0.0  \n",
       "1        1.0  \n",
       "2        NaN  \n",
       "\n",
       "[3 rows x 34 columns]"
      ]
     },
     "execution_count": 4,
     "metadata": {},
     "output_type": "execute_result"
    }
   ],
   "source": [
    "train_orig.head(3)"
   ]
  },
  {
   "cell_type": "code",
   "execution_count": 5,
   "metadata": {},
   "outputs": [
    {
     "data": {
      "text/html": [
       "<div>\n",
       "<style>\n",
       "    .dataframe thead tr:only-child th {\n",
       "        text-align: right;\n",
       "    }\n",
       "\n",
       "    .dataframe thead th {\n",
       "        text-align: left;\n",
       "    }\n",
       "\n",
       "    .dataframe tbody tr th {\n",
       "        vertical-align: top;\n",
       "    }\n",
       "</style>\n",
       "<table border=\"1\" class=\"dataframe\">\n",
       "  <thead>\n",
       "    <tr style=\"text-align: right;\">\n",
       "      <th></th>\n",
       "      <th>ticket_id</th>\n",
       "      <th>agency_name</th>\n",
       "      <th>inspector_name</th>\n",
       "      <th>violator_name</th>\n",
       "      <th>violation_street_number</th>\n",
       "      <th>violation_street_name</th>\n",
       "      <th>violation_zip_code</th>\n",
       "      <th>mailing_address_str_number</th>\n",
       "      <th>mailing_address_str_name</th>\n",
       "      <th>city</th>\n",
       "      <th>...</th>\n",
       "      <th>violation_description</th>\n",
       "      <th>disposition</th>\n",
       "      <th>fine_amount</th>\n",
       "      <th>admin_fee</th>\n",
       "      <th>state_fee</th>\n",
       "      <th>late_fee</th>\n",
       "      <th>discount_amount</th>\n",
       "      <th>clean_up_cost</th>\n",
       "      <th>judgment_amount</th>\n",
       "      <th>grafitti_status</th>\n",
       "    </tr>\n",
       "  </thead>\n",
       "  <tbody>\n",
       "    <tr>\n",
       "      <th>0</th>\n",
       "      <td>284932</td>\n",
       "      <td>Department of Public Works</td>\n",
       "      <td>Granberry, Aisha B</td>\n",
       "      <td>FLUELLEN, JOHN A</td>\n",
       "      <td>10041.0</td>\n",
       "      <td>ROSEBERRY</td>\n",
       "      <td>NaN</td>\n",
       "      <td>141</td>\n",
       "      <td>ROSEBERRY</td>\n",
       "      <td>DETROIT</td>\n",
       "      <td>...</td>\n",
       "      <td>Failure to secure City or Private solid waste ...</td>\n",
       "      <td>Responsible by Default</td>\n",
       "      <td>200.0</td>\n",
       "      <td>20.0</td>\n",
       "      <td>10.0</td>\n",
       "      <td>20.0</td>\n",
       "      <td>0.0</td>\n",
       "      <td>0.0</td>\n",
       "      <td>250.0</td>\n",
       "      <td>NaN</td>\n",
       "    </tr>\n",
       "    <tr>\n",
       "      <th>1</th>\n",
       "      <td>285362</td>\n",
       "      <td>Department of Public Works</td>\n",
       "      <td>Lusk, Gertrina</td>\n",
       "      <td>WHIGHAM, THELMA</td>\n",
       "      <td>18520.0</td>\n",
       "      <td>EVERGREEN</td>\n",
       "      <td>NaN</td>\n",
       "      <td>19136</td>\n",
       "      <td>GLASTONBURY</td>\n",
       "      <td>DETROIT</td>\n",
       "      <td>...</td>\n",
       "      <td>Allowing bulk solid waste to lie or accumulate...</td>\n",
       "      <td>Responsible by Default</td>\n",
       "      <td>1000.0</td>\n",
       "      <td>20.0</td>\n",
       "      <td>10.0</td>\n",
       "      <td>100.0</td>\n",
       "      <td>0.0</td>\n",
       "      <td>0.0</td>\n",
       "      <td>1130.0</td>\n",
       "      <td>NaN</td>\n",
       "    </tr>\n",
       "    <tr>\n",
       "      <th>2</th>\n",
       "      <td>285361</td>\n",
       "      <td>Department of Public Works</td>\n",
       "      <td>Lusk, Gertrina</td>\n",
       "      <td>WHIGHAM, THELMA</td>\n",
       "      <td>18520.0</td>\n",
       "      <td>EVERGREEN</td>\n",
       "      <td>NaN</td>\n",
       "      <td>19136</td>\n",
       "      <td>GLASTONBURY</td>\n",
       "      <td>DETROIT</td>\n",
       "      <td>...</td>\n",
       "      <td>Improper placement of Courville container betw...</td>\n",
       "      <td>Responsible by Default</td>\n",
       "      <td>100.0</td>\n",
       "      <td>20.0</td>\n",
       "      <td>10.0</td>\n",
       "      <td>10.0</td>\n",
       "      <td>0.0</td>\n",
       "      <td>0.0</td>\n",
       "      <td>140.0</td>\n",
       "      <td>NaN</td>\n",
       "    </tr>\n",
       "  </tbody>\n",
       "</table>\n",
       "<p>3 rows × 27 columns</p>\n",
       "</div>"
      ],
      "text/plain": [
       "  ticket_id                 agency_name      inspector_name     violator_name  \\\n",
       "0    284932  Department of Public Works  Granberry, Aisha B  FLUELLEN, JOHN A   \n",
       "1    285362  Department of Public Works      Lusk, Gertrina   WHIGHAM, THELMA   \n",
       "2    285361  Department of Public Works      Lusk, Gertrina   WHIGHAM, THELMA   \n",
       "\n",
       "  violation_street_number violation_street_name violation_zip_code  \\\n",
       "0                 10041.0             ROSEBERRY                NaN   \n",
       "1                 18520.0             EVERGREEN                NaN   \n",
       "2                 18520.0             EVERGREEN                NaN   \n",
       "\n",
       "  mailing_address_str_number mailing_address_str_name     city  \\\n",
       "0                        141                ROSEBERRY  DETROIT   \n",
       "1                      19136              GLASTONBURY  DETROIT   \n",
       "2                      19136              GLASTONBURY  DETROIT   \n",
       "\n",
       "        ...                                    violation_description  \\\n",
       "0       ...        Failure to secure City or Private solid waste ...   \n",
       "1       ...        Allowing bulk solid waste to lie or accumulate...   \n",
       "2       ...        Improper placement of Courville container betw...   \n",
       "\n",
       "              disposition fine_amount admin_fee state_fee late_fee  \\\n",
       "0  Responsible by Default       200.0      20.0      10.0     20.0   \n",
       "1  Responsible by Default      1000.0      20.0      10.0    100.0   \n",
       "2  Responsible by Default       100.0      20.0      10.0     10.0   \n",
       "\n",
       "  discount_amount clean_up_cost judgment_amount grafitti_status  \n",
       "0             0.0           0.0           250.0             NaN  \n",
       "1             0.0           0.0          1130.0             NaN  \n",
       "2             0.0           0.0           140.0             NaN  \n",
       "\n",
       "[3 rows x 27 columns]"
      ]
     },
     "execution_count": 5,
     "metadata": {},
     "output_type": "execute_result"
    }
   ],
   "source": [
    "test.head(3)"
   ]
  },
  {
   "cell_type": "markdown",
   "metadata": {},
   "source": [
    "Compare columns between the two datasets"
   ]
  },
  {
   "cell_type": "code",
   "execution_count": 6,
   "metadata": {},
   "outputs": [
    {
     "name": "stdout",
     "output_type": "stream",
     "text": [
      "------ columns in both sets -----\n",
      "['grafitti_status', 'ticket_issued_date', 'inspector_name', 'non_us_str_code', 'fine_amount', 'late_fee', 'violation_code', 'violation_street_name', 'violation_street_number', 'admin_fee', 'violation_description', 'mailing_address_str_number', 'judgment_amount', 'hearing_date', 'state', 'state_fee', 'discount_amount', 'violation_zip_code', 'agency_name', 'zip_code', 'clean_up_cost', 'country', 'city', 'mailing_address_str_name', 'ticket_id', 'disposition', 'violator_name']\n",
      "\n",
      "------ columns in train_orig only ----- \n",
      "['payment_date', 'compliance_detail', 'balance_due', 'compliance', 'payment_amount', 'payment_status', 'collection_status']\n",
      "\n",
      "------ columns in test only ----- \n",
      "[]\n"
     ]
    }
   ],
   "source": [
    "samecols, df1only, df2only = col_comparison(train_orig, test)"
   ]
  },
  {
   "cell_type": "markdown",
   "metadata": {},
   "source": [
    "Show description of training set"
   ]
  },
  {
   "cell_type": "code",
   "execution_count": 7,
   "metadata": {},
   "outputs": [
    {
     "name": "stdout",
     "output_type": "stream",
     "text": [
      "------Description of Dataset -------\n",
      "       ticket_id                                     agency_name  \\\n",
      "count     250306                                          250306   \n",
      "unique    250306                                               5   \n",
      "top       237420  Buildings, Safety Engineering & Env Department   \n",
      "freq           1                                          157784   \n",
      "\n",
      "       inspector_name      violator_name violation_street_number  \\\n",
      "count          250306             250272                  250306   \n",
      "unique            173             119992                   19175   \n",
      "top      Morris, John  INVESTMENT, ACORN                  1509.0   \n",
      "freq            17926                809                     240   \n",
      "\n",
      "       violation_street_name  violation_zip_code mailing_address_str_number  \\\n",
      "count                 250306                 0.0                     246704   \n",
      "unique                  1791                 0.0                      15826   \n",
      "top               SEVEN MILE                 NaN                        213   \n",
      "freq                    3482                 NaN                       1934   \n",
      "\n",
      "       mailing_address_str_name     city    ...     clean_up_cost  \\\n",
      "count                    250302   250306    ...            250306   \n",
      "unique                    37896     5184    ...                 1   \n",
      "top                      PO BOX  DETROIT    ...               0.0   \n",
      "freq                       8668   136936    ...            250306   \n",
      "\n",
      "       judgment_amount payment_amount balance_due         payment_date  \\\n",
      "count           250306         250306      250306                41113   \n",
      "unique              57            533         607                 2307   \n",
      "top                0.0            0.0         0.0  2014-08-04 00:00:00   \n",
      "freq             90621         209193      111508                  177   \n",
      "\n",
      "            payment_status collection_status  grafitti_status  \\\n",
      "count               250306             36897                1   \n",
      "unique                   3                 1                1   \n",
      "top     NO PAYMENT APPLIED     IN COLLECTION  GRAFFITI TICKET   \n",
      "freq                209193             36897                1   \n",
      "\n",
      "                  compliance_detail compliance  \n",
      "count                        250306     159880  \n",
      "unique                           10          2  \n",
      "top     non-compliant by no payment        0.0  \n",
      "freq                         129267     148283  \n",
      "\n",
      "[4 rows x 34 columns]\n",
      "------Description of Dtypes --------\n",
      "ticket_id                     object\n",
      "agency_name                   object\n",
      "inspector_name                object\n",
      "violator_name                 object\n",
      "violation_street_number       object\n",
      "violation_street_name         object\n",
      "violation_zip_code            object\n",
      "mailing_address_str_number    object\n",
      "mailing_address_str_name      object\n",
      "city                          object\n",
      "state                         object\n",
      "zip_code                      object\n",
      "non_us_str_code               object\n",
      "country                       object\n",
      "ticket_issued_date            object\n",
      "hearing_date                  object\n",
      "violation_code                object\n",
      "violation_description         object\n",
      "disposition                   object\n",
      "fine_amount                   object\n",
      "admin_fee                     object\n",
      "state_fee                     object\n",
      "late_fee                      object\n",
      "discount_amount               object\n",
      "clean_up_cost                 object\n",
      "judgment_amount               object\n",
      "payment_amount                object\n",
      "balance_due                   object\n",
      "payment_date                  object\n",
      "payment_status                object\n",
      "collection_status             object\n",
      "grafitti_status               object\n",
      "compliance_detail             object\n",
      "compliance                    object\n",
      "dtype: object\n",
      "------Grouping by Dtypes --------\n",
      "{dtype('O'): Index(['ticket_id', 'agency_name', 'inspector_name', 'violator_name',\n",
      "       'violation_street_number', 'violation_street_name',\n",
      "       'violation_zip_code', 'mailing_address_str_number',\n",
      "       'mailing_address_str_name', 'city', 'state', 'zip_code',\n",
      "       'non_us_str_code', 'country', 'ticket_issued_date', 'hearing_date',\n",
      "       'violation_code', 'violation_description', 'disposition', 'fine_amount',\n",
      "       'admin_fee', 'state_fee', 'late_fee', 'discount_amount',\n",
      "       'clean_up_cost', 'judgment_amount', 'payment_amount', 'balance_due',\n",
      "       'payment_date', 'payment_status', 'collection_status',\n",
      "       'grafitti_status', 'compliance_detail', 'compliance'],\n",
      "      dtype='object')}\n",
      "------count of unique values -------\n",
      "ticket_id                     250306\n",
      "agency_name                        5\n",
      "inspector_name                   173\n",
      "violator_name                 119993\n",
      "violation_street_number        19175\n",
      "violation_street_name           1791\n",
      "violation_zip_code                 1\n",
      "mailing_address_str_number     15827\n",
      "mailing_address_str_name       37897\n",
      "city                            5184\n",
      "state                             60\n",
      "zip_code                        4252\n",
      "non_us_str_code                    3\n",
      "country                            5\n",
      "ticket_issued_date             86979\n",
      "hearing_date                    6223\n",
      "violation_code                   235\n",
      "violation_description            258\n",
      "disposition                        9\n",
      "fine_amount                       44\n",
      "admin_fee                          2\n",
      "state_fee                          2\n",
      "late_fee                          37\n",
      "discount_amount                   13\n",
      "clean_up_cost                      1\n",
      "judgment_amount                   57\n",
      "payment_amount                   533\n",
      "balance_due                      607\n",
      "payment_date                    2308\n",
      "payment_status                     3\n",
      "collection_status                  2\n",
      "grafitti_status                    2\n",
      "compliance_detail                 10\n",
      "compliance                         3\n",
      "dtype: int64\n",
      "-----print count for each categorie----\n",
      "--count in category agency_name--\n",
      "Buildings, Safety Engineering & Env Department    157784\n",
      "Department of Public Works                         74717\n",
      "Health Department                                   8903\n",
      "Detroit Police Department                           8900\n",
      "Neighborhood City Halls                                2\n",
      "Name: agency_name, dtype: int64\n",
      "--count in category violation_zip_code--\n",
      "Series([], Name: violation_zip_code, dtype: int64)\n",
      "--count in category non_us_str_code--\n",
      "ONTARIO, Canada    2\n",
      ", Australia        1\n",
      "Name: non_us_str_code, dtype: int64\n",
      "--count in category country--\n",
      "USA     250293\n",
      "Cana         7\n",
      "Aust         3\n",
      "Egyp         2\n",
      "Germ         1\n",
      "Name: country, dtype: int64\n",
      "--count in category disposition--\n",
      "Responsible by Default                138340\n",
      "Not responsible by Dismissal           48695\n",
      "Not responsible by City Dismissal      34401\n",
      "Responsible by Admission               13701\n",
      "Responsible by Determination            7644\n",
      "Not responsible by Determination        6639\n",
      "PENDING JUDGMENT                         387\n",
      "SET-ASIDE (PENDING JUDGMENT)             304\n",
      "Responsible (Fine Waived) by Deter       195\n",
      "Name: disposition, dtype: int64\n",
      "--count in category admin_fee--\n",
      "20.0    159880\n",
      "0.0      90426\n",
      "Name: admin_fee, dtype: int64\n",
      "--count in category state_fee--\n",
      "10.0    159880\n",
      "0.0      90426\n",
      "Name: state_fee, dtype: int64\n",
      "--count in category discount_amount--\n",
      "0.0      249126\n",
      "25.0        605\n",
      "5.0         167\n",
      "10.0        155\n",
      "20.0        135\n",
      "50.0         43\n",
      "3.0          19\n",
      "30.0         17\n",
      "100.0        16\n",
      "350.0        15\n",
      "250.0         6\n",
      "13.0          1\n",
      "40.0          1\n",
      "Name: discount_amount, dtype: int64\n",
      "--count in category clean_up_cost--\n",
      "0.0    250306\n",
      "Name: clean_up_cost, dtype: int64\n",
      "--count in category payment_status--\n",
      "NO PAYMENT APPLIED         209193\n",
      "PAID IN FULL                31931\n",
      "PARTIAL PAYMENT APPLIED      9182\n",
      "Name: payment_status, dtype: int64\n",
      "--count in category collection_status--\n",
      "IN COLLECTION    36897\n",
      "Name: collection_status, dtype: int64\n",
      "--count in category grafitti_status--\n",
      "GRAFFITI TICKET    1\n",
      "Name: grafitti_status, dtype: int64\n",
      "--count in category compliance_detail--\n",
      "non-compliant by no payment                        129267\n",
      "not responsible by disposition                      89735\n",
      "non-compliant by late payment more than 1 month     19016\n",
      "compliant by late payment within 1 month             6300\n",
      "compliant by on-time payment                         3880\n",
      "compliant by early payment                            992\n",
      "not responsible by pending judgment disposition       691\n",
      "compliant by no fine                                  195\n",
      "compliant by payment with no scheduled hearing        161\n",
      "compliant by payment on unknown date                   69\n",
      "Name: compliance_detail, dtype: int64\n",
      "--count in category compliance--\n",
      "0.0    148283\n",
      "1.0     11597\n",
      "Name: compliance, dtype: int64\n",
      "------count of np.nan -------\n",
      "ticket_id                          0\n",
      "agency_name                        0\n",
      "inspector_name                     0\n",
      "violator_name                     34\n",
      "violation_street_number            0\n",
      "violation_street_name              0\n",
      "violation_zip_code            250306\n",
      "mailing_address_str_number      3602\n",
      "mailing_address_str_name           4\n",
      "city                               0\n",
      "state                             93\n",
      "zip_code                           1\n",
      "non_us_str_code               250303\n",
      "country                            0\n",
      "ticket_issued_date                 0\n",
      "hearing_date                   12491\n",
      "violation_code                     0\n",
      "violation_description              0\n",
      "disposition                        0\n",
      "fine_amount                        1\n",
      "admin_fee                          0\n",
      "state_fee                          0\n",
      "late_fee                           0\n",
      "discount_amount                    0\n",
      "clean_up_cost                      0\n",
      "judgment_amount                    0\n",
      "payment_amount                     0\n",
      "balance_due                        0\n",
      "payment_date                  209193\n",
      "payment_status                     0\n",
      "collection_status             213409\n",
      "grafitti_status               250305\n",
      "compliance_detail                  0\n",
      "compliance                     90426\n",
      "dtype: int64\n"
     ]
    },
    {
     "name": "stdout",
     "output_type": "stream",
     "text": [
      "------zero variance numeric columns -------\n",
      "[]\n"
     ]
    }
   ],
   "source": [
    "show_info(train_orig)"
   ]
  },
  {
   "cell_type": "markdown",
   "metadata": {},
   "source": [
    "Show description of testing set"
   ]
  },
  {
   "cell_type": "code",
   "execution_count": 8,
   "metadata": {},
   "outputs": [
    {
     "name": "stdout",
     "output_type": "stream",
     "text": [
      "------Description of Dataset -------\n",
      "       ticket_id                 agency_name inspector_name  \\\n",
      "count      61001                       61001          61001   \n",
      "unique     61001                           3            116   \n",
      "top       312370  Department of Public Works    Zizi, Josue   \n",
      "freq           1                       40731           6293   \n",
      "\n",
      "             violator_name violation_street_number violation_street_name  \\\n",
      "count                60973                   61001                 61001   \n",
      "unique               38515                   13999                  1477   \n",
      "top     HOMES LDHA LP, MLK                 16700.0             MCNICHOLS   \n",
      "freq                    91                      55                  1125   \n",
      "\n",
      "       violation_zip_code mailing_address_str_number mailing_address_str_name  \\\n",
      "count               24024                      59987                    60998   \n",
      "unique                 58                       9703                    16851   \n",
      "top                 48228                          4              GRAND RIVER   \n",
      "freq                 2648                        630                      479   \n",
      "\n",
      "           city       ...         \\\n",
      "count     61000       ...          \n",
      "unique     3266       ...          \n",
      "top     DETROIT       ...          \n",
      "freq      26358       ...          \n",
      "\n",
      "                                    violation_description  \\\n",
      "count                                               61001   \n",
      "unique                                                163   \n",
      "top     Excessive weeds or plant growth one- or two-fa...   \n",
      "freq                                                16259   \n",
      "\n",
      "                   disposition  fine_amount admin_fee state_fee late_fee  \\\n",
      "count                    61001        61001     61001     61001    61001   \n",
      "unique                       8           53         1         1       44   \n",
      "top     Responsible by Default         50.0      20.0      10.0      5.0   \n",
      "freq                     51602        17322     61001     61001    15023   \n",
      "\n",
      "       discount_amount clean_up_cost judgment_amount  grafitti_status  \n",
      "count            61001         61001           61001             2221  \n",
      "unique              14           298             503                1  \n",
      "top                0.0           0.0            85.0  GRAFFITI TICKET  \n",
      "freq             60239         59421           15017             2221  \n",
      "\n",
      "[4 rows x 27 columns]\n",
      "------Description of Dtypes --------\n",
      "ticket_id                     object\n",
      "agency_name                   object\n",
      "inspector_name                object\n",
      "violator_name                 object\n",
      "violation_street_number       object\n",
      "violation_street_name         object\n",
      "violation_zip_code            object\n",
      "mailing_address_str_number    object\n",
      "mailing_address_str_name      object\n",
      "city                          object\n",
      "state                         object\n",
      "zip_code                      object\n",
      "non_us_str_code               object\n",
      "country                       object\n",
      "ticket_issued_date            object\n",
      "hearing_date                  object\n",
      "violation_code                object\n",
      "violation_description         object\n",
      "disposition                   object\n",
      "fine_amount                   object\n",
      "admin_fee                     object\n",
      "state_fee                     object\n",
      "late_fee                      object\n",
      "discount_amount               object\n",
      "clean_up_cost                 object\n",
      "judgment_amount               object\n",
      "grafitti_status               object\n",
      "dtype: object\n",
      "------Grouping by Dtypes --------\n",
      "{dtype('O'): Index(['ticket_id', 'agency_name', 'inspector_name', 'violator_name',\n",
      "       'violation_street_number', 'violation_street_name',\n",
      "       'violation_zip_code', 'mailing_address_str_number',\n",
      "       'mailing_address_str_name', 'city', 'state', 'zip_code',\n",
      "       'non_us_str_code', 'country', 'ticket_issued_date', 'hearing_date',\n",
      "       'violation_code', 'violation_description', 'disposition', 'fine_amount',\n",
      "       'admin_fee', 'state_fee', 'late_fee', 'discount_amount',\n",
      "       'clean_up_cost', 'judgment_amount', 'grafitti_status'],\n",
      "      dtype='object')}\n",
      "------count of unique values -------\n",
      "ticket_id                     61001\n",
      "agency_name                       3\n",
      "inspector_name                  116\n",
      "violator_name                 38516\n",
      "violation_street_number       13999\n",
      "violation_street_name          1477\n",
      "violation_zip_code               59\n",
      "mailing_address_str_number     9704\n",
      "mailing_address_str_name      16852\n",
      "city                           3267\n",
      "state                            59\n",
      "zip_code                       2901\n",
      "non_us_str_code                   1\n",
      "country                           1\n",
      "ticket_issued_date            33064\n",
      "hearing_date                   3313\n",
      "violation_code                  151\n",
      "violation_description           163\n",
      "disposition                       8\n",
      "fine_amount                      53\n",
      "admin_fee                         1\n",
      "state_fee                         1\n",
      "late_fee                         44\n",
      "discount_amount                  14\n",
      "clean_up_cost                   298\n",
      "judgment_amount                 503\n",
      "grafitti_status                   2\n",
      "dtype: int64\n",
      "-----print count for each categorie----\n",
      "--count in category agency_name--\n",
      "Department of Public Works                        40731\n",
      "Buildings, Safety Engineering & Env Department    16832\n",
      "Detroit Police Department                          3438\n",
      "Name: agency_name, dtype: int64\n",
      "--count in category non_us_str_code--\n",
      "Series([], Name: non_us_str_code, dtype: int64)\n",
      "--count in category country--\n",
      "USA    61001\n",
      "Name: country, dtype: int64\n",
      "--count in category disposition--\n",
      "Responsible by Default                51602\n",
      "Responsible by Admission               4484\n",
      "Responsible by Determination           4124\n",
      "Responsible (Fine Waived) by Deter      781\n",
      "Responsible - Compl/Adj by Default        6\n",
      "Responsible - Compl/Adj by Determi        2\n",
      "Responsible by Dismissal                  1\n",
      "Responsible (Fine Waived) by Admis        1\n",
      "Name: disposition, dtype: int64\n",
      "--count in category admin_fee--\n",
      "20.0    61001\n",
      "Name: admin_fee, dtype: int64\n",
      "--count in category state_fee--\n",
      "10.0    61001\n",
      "Name: state_fee, dtype: int64\n",
      "--count in category discount_amount--\n",
      "0.0      60239\n",
      "5.0        228\n",
      "10.0       191\n",
      "20.0       146\n",
      "25.0        94\n",
      "50.0        59\n",
      "100.0       22\n",
      "13.0         9\n",
      "75.0         4\n",
      "30.0         4\n",
      "150.0        2\n",
      "3.0          1\n",
      "40.0         1\n",
      "250.0        1\n",
      "Name: discount_amount, dtype: int64\n",
      "--count in category grafitti_status--\n",
      "GRAFFITI TICKET    2221\n",
      "Name: grafitti_status, dtype: int64\n",
      "------count of np.nan -------\n",
      "ticket_id                         0\n",
      "agency_name                       0\n",
      "inspector_name                    0\n",
      "violator_name                    28\n",
      "violation_street_number           0\n",
      "violation_street_name             0\n",
      "violation_zip_code            36977\n",
      "mailing_address_str_number     1014\n",
      "mailing_address_str_name          3\n",
      "city                              1\n",
      "state                           331\n",
      "zip_code                          3\n",
      "non_us_str_code               61001\n",
      "country                           0\n",
      "ticket_issued_date                0\n",
      "hearing_date                   2197\n",
      "violation_code                    0\n",
      "violation_description             0\n",
      "disposition                       0\n",
      "fine_amount                       0\n",
      "admin_fee                         0\n",
      "state_fee                         0\n",
      "late_fee                          0\n",
      "discount_amount                   0\n",
      "clean_up_cost                     0\n",
      "judgment_amount                   0\n",
      "grafitti_status               58780\n",
      "dtype: int64\n",
      "------zero variance numeric columns -------\n",
      "[]\n"
     ]
    }
   ],
   "source": [
    "show_info(test)"
   ]
  },
  {
   "cell_type": "markdown",
   "metadata": {},
   "source": [
    "### Preliminary Pre-processing"
   ]
  },
  {
   "cell_type": "markdown",
   "metadata": {},
   "source": [
    "#### Make columns in the training and testing dataset match. "
   ]
  },
  {
   "cell_type": "code",
   "execution_count": 9,
   "metadata": {},
   "outputs": [
    {
     "name": "stdout",
     "output_type": "stream",
     "text": [
      "---columns comparsion prior to change---\n",
      "------ columns in both sets -----\n",
      "['grafitti_status', 'ticket_issued_date', 'inspector_name', 'non_us_str_code', 'fine_amount', 'late_fee', 'violation_code', 'violation_street_name', 'violation_street_number', 'admin_fee', 'violation_description', 'mailing_address_str_number', 'judgment_amount', 'hearing_date', 'state', 'state_fee', 'discount_amount', 'violation_zip_code', 'agency_name', 'zip_code', 'clean_up_cost', 'country', 'city', 'mailing_address_str_name', 'ticket_id', 'disposition', 'violator_name']\n",
      "\n",
      "------ columns in train_orig only ----- \n",
      "['payment_date', 'compliance_detail', 'balance_due', 'compliance', 'payment_amount', 'payment_status', 'collection_status']\n",
      "\n",
      "------ columns in test only ----- \n",
      "[]\n"
     ]
    }
   ],
   "source": [
    "train, test = make_cols_match(train_orig, test, 'compliance')"
   ]
  },
  {
   "cell_type": "markdown",
   "metadata": {},
   "source": [
    "Verify that columns now match between the two sets"
   ]
  },
  {
   "cell_type": "code",
   "execution_count": 10,
   "metadata": {},
   "outputs": [
    {
     "data": {
      "text/plain": [
       "array([ True,  True,  True,  True,  True,  True,  True,  True,  True,\n",
       "        True,  True,  True,  True,  True,  True,  True,  True,  True,\n",
       "        True,  True,  True,  True,  True,  True,  True,  True,  True,  True], dtype=bool)"
      ]
     },
     "execution_count": 10,
     "metadata": {},
     "output_type": "execute_result"
    }
   ],
   "source": [
    "train.columns == test.columns"
   ]
  },
  {
   "cell_type": "markdown",
   "metadata": {},
   "source": [
    "#### Remove rows from training sets where the violators were found not responsible for the ticket issued."
   ]
  },
  {
   "cell_type": "code",
   "execution_count": 11,
   "metadata": {
    "collapsed": true
   },
   "outputs": [],
   "source": [
    "train = train.dropna(subset=['compliance'])  "
   ]
  },
  {
   "cell_type": "markdown",
   "metadata": {},
   "source": [
    "#### Define function to apply transformations"
   ]
  },
  {
   "cell_type": "code",
   "execution_count": 12,
   "metadata": {},
   "outputs": [],
   "source": [
    "def transformations(df):  \n",
    "\n",
    "    # cast to string for categorical variables\n",
    "    df = cast_dtype(df, ['fine_amount', 'admin_fee', 'state_fee', 'late_fee', 'discount_amount',\n",
    "                         'clean_up_cost', 'judgment_amount'], 'float64')\n",
    "    \n",
    "    df = cast_dtype(df, ['ticket_id', 'agency_name', 'inspector_name', 'violator_name',\n",
    "       'violation_street_number', 'violation_street_name',\n",
    "       'violation_zip_code', 'mailing_address_str_number',\n",
    "       'mailing_address_str_name', 'city', 'state', 'zip_code',\n",
    "       'non_us_str_code', 'country', 'violation_code', 'violation_description',\n",
    "       'disposition', 'grafitti_status', 'compliance'], 'str')\n",
    "    \n",
    "    \n",
    "    # cast to datetime for date time variables\n",
    "    df = cast_datetime(df, ['ticket_issued_date', 'hearing_date'])\n",
    "\n",
    "    # select string columns for text processing\n",
    "    df = textProcessing(df, cols = None) \n",
    "\n",
    "    # select columns to remove\n",
    "    cols = ['violation_zip_code', 'non_us_str_code', 'country', 'grafitti_status', 'clean_up_cost', 'violation_description',\n",
    "             'mailing_address_str_number', 'mailing_address_str_name']  \n",
    "    df = remove_columns(df, cols)\n",
    "\n",
    "    # check for common form of missing observations\n",
    "    #print('---missing observations in these columns prior to replacing strings---')\n",
    "    #print(missing_obs_count_by_column(df, cols = None, stringlist = None))\n",
    "\n",
    "    # replace strings that are missing\n",
    "    df = replaceStrings(df, ['zip_code', 'state', 'violator_name'], 'nan', '')\n",
    "    df['compliance'] = df['compliance'].replace('', '0')\n",
    "\n",
    "    # drop zero variance numeric columns\n",
    "    df = drop_features_based_on_std_threshold(df, 0)\n",
    "\n",
    "    return df"
   ]
  },
  {
   "cell_type": "markdown",
   "metadata": {},
   "source": [
    "#### Apply Transformations\n",
    "1. cast to float64 for numeric variables\n",
    "2. cast to string for categorical variables\n",
    "3. cast to datetime for date time variables\n",
    "4. select string columns for text processing\n",
    "5. select columns to remove\n",
    "6. replace strings that are missing\n",
    "7. drop numeric columns with zero variance"
   ]
  },
  {
   "cell_type": "code",
   "execution_count": 13,
   "metadata": {
    "collapsed": true
   },
   "outputs": [],
   "source": [
    "train = transformations(train)\n",
    "test = transformations(test)"
   ]
  },
  {
   "cell_type": "markdown",
   "metadata": {},
   "source": [
    "Check the data summary again after transformations"
   ]
  },
  {
   "cell_type": "code",
   "execution_count": 14,
   "metadata": {},
   "outputs": [
    {
     "name": "stdout",
     "output_type": "stream",
     "text": [
      "------Description of Dataset -------\n",
      "         fine_amount       late_fee  discount_amount  judgment_amount\n",
      "count  159880.000000  159880.000000    159880.000000    159880.000000\n",
      "mean      357.035295      33.651512         0.195959       420.650218\n",
      "std       675.655580      67.692916         4.290344       742.555062\n",
      "min         0.000000       0.000000         0.000000         0.000000\n",
      "25%       200.000000      10.000000         0.000000       250.000000\n",
      "50%       250.000000      25.000000         0.000000       305.000000\n",
      "75%       250.000000      25.000000         0.000000       305.000000\n",
      "max     10000.000000    1000.000000       350.000000     11030.000000\n",
      "------Description of Dtypes --------\n",
      "ticket_id                          object\n",
      "agency_name                        object\n",
      "inspector_name                     object\n",
      "violator_name                      object\n",
      "violation_street_number            object\n",
      "violation_street_name              object\n",
      "city                               object\n",
      "state                              object\n",
      "zip_code                           object\n",
      "ticket_issued_date         datetime64[ns]\n",
      "hearing_date               datetime64[ns]\n",
      "violation_code                     object\n",
      "disposition                        object\n",
      "fine_amount                       float64\n",
      "late_fee                          float64\n",
      "discount_amount                   float64\n",
      "judgment_amount                   float64\n",
      "compliance                         object\n",
      "dtype: object\n",
      "------Grouping by Dtypes --------\n",
      "{dtype('<M8[ns]'): Index(['ticket_issued_date', 'hearing_date'], dtype='object'), dtype('float64'): Index(['fine_amount', 'late_fee', 'discount_amount', 'judgment_amount'], dtype='object'), dtype('O'): Index(['ticket_id', 'agency_name', 'inspector_name', 'violator_name',\n",
      "       'violation_street_number', 'violation_street_name', 'city', 'state',\n",
      "       'zip_code', 'violation_code', 'disposition', 'compliance'],\n",
      "      dtype='object')}\n",
      "------count of unique values -------\n",
      "ticket_id                  159880\n",
      "agency_name                     5\n",
      "inspector_name                158\n",
      "violator_name               75209\n",
      "violation_street_number     18096\n",
      "violation_street_name        1716\n",
      "city                         3148\n",
      "state                          60\n",
      "zip_code                     3498\n",
      "violation_code                189\n",
      "disposition                     4\n",
      "compliance                      2\n",
      "dtype: int64\n",
      "-----print count for each categorie----\n",
      "--count in category agency_name--\n",
      "buildings safety engineering env department    95863\n",
      "department of public works                     52445\n",
      "health department                               7107\n",
      "detroit police department                       4464\n",
      "neighborhood city halls                            1\n",
      "Name: agency_name, dtype: int64\n",
      "--count in category disposition--\n",
      "responsible by default              138340\n",
      "responsible by admission             13701\n",
      "responsible by determination          7644\n",
      "responsible fine waived by deter       195\n",
      "Name: disposition, dtype: int64\n",
      "--count in category compliance--\n",
      "0    148283\n",
      "1     11597\n",
      "Name: compliance, dtype: int64\n",
      "------count of np.nan -------\n",
      "ticket_id                    0\n",
      "agency_name                  0\n",
      "inspector_name               0\n",
      "violator_name                0\n",
      "violation_street_number      0\n",
      "violation_street_name        0\n",
      "city                         0\n",
      "state                        0\n",
      "zip_code                     0\n",
      "ticket_issued_date           0\n",
      "hearing_date               227\n",
      "violation_code               0\n",
      "disposition                  0\n",
      "fine_amount                  0\n",
      "late_fee                     0\n",
      "discount_amount              0\n",
      "judgment_amount              0\n",
      "compliance                   0\n",
      "dtype: int64\n",
      "------zero variance numeric columns -------\n",
      "[]\n"
     ]
    }
   ],
   "source": [
    "show_info(train)"
   ]
  },
  {
   "cell_type": "markdown",
   "metadata": {},
   "source": [
    "### Feature Engineering"
   ]
  },
  {
   "cell_type": "markdown",
   "metadata": {},
   "source": [
    "#### Boolean: if state of violator is in MI"
   ]
  },
  {
   "cell_type": "code",
   "execution_count": 15,
   "metadata": {
    "collapsed": true
   },
   "outputs": [],
   "source": [
    "train['mi'] = [1 if  x == 'mi' else 0 for x in train['state']]\n",
    "test['mi'] = [1 if  x == 'mi' else 0 for x in test['state']]"
   ]
  },
  {
   "cell_type": "markdown",
   "metadata": {},
   "source": [
    "#### Boolean: if violator is in Detroit or not"
   ]
  },
  {
   "cell_type": "code",
   "execution_count": 16,
   "metadata": {
    "collapsed": true
   },
   "outputs": [],
   "source": [
    "train['detroit'] = train['city'] .str.startswith('det')\n",
    "test['detroit'] = test['city'] .str.startswith('det')"
   ]
  },
  {
   "cell_type": "markdown",
   "metadata": {},
   "source": [
    "#### Boolean: if violator has only 1 violation"
   ]
  },
  {
   "cell_type": "code",
   "execution_count": 17,
   "metadata": {
    "collapsed": true
   },
   "outputs": [],
   "source": [
    "def oneRecord(feature, df1, df2):\n",
    "    '''given a column, find observations counts with only only one observation.\n",
    "    The function combines both df1 and df2 before proceed with calculation\n",
    "    Arguments: column (feature), dataframe1, dataframe2\n",
    "    Returns: dataframe with two columns: feature & '''\n",
    "    \n",
    "    temp = pd.concat([df1[feature].reset_index(), \n",
    "                      df2[feature].reset_index()])\n",
    "    temp = temp.groupby(feature, as_index = False).count()\n",
    "    return temp[temp['index'] == 1]\n",
    "\n",
    "singleViolation = oneRecord('violator_name', train, test)\n",
    "train = train.merge(singleViolation, how = 'left', left_on= 'violator_name', right_on = 'violator_name')\n",
    "test = test.merge(singleViolation, how = 'left', left_on= 'violator_name', right_on = 'violator_name')\n",
    "train = train.rename(columns={'index':'singleViolation'})\n",
    "test = test.rename(columns={'index':'singleViolation'})\n",
    "train['singleViolation'].fillna(0, inplace = True)\n",
    "test['singleViolation'].fillna(0, inplace = True)"
   ]
  },
  {
   "cell_type": "markdown",
   "metadata": {},
   "source": [
    "#### Group features by number count and % of occurence for  high-cardinality categorical attributes\n",
    "zip_code, violator_name, inspector_name"
   ]
  },
  {
   "cell_type": "code",
   "execution_count": 18,
   "metadata": {
    "collapsed": true
   },
   "outputs": [],
   "source": [
    "def percentCount(feature, df1, df2):\n",
    "    ''' group features by # count and % of occurence in dataframe \n",
    "    merge the calculated features to dataframe 1 and dataframe 2\n",
    "    \n",
    "    Arguments: feature, dataframe1, dataframe2\n",
    "    Returns: dataframe1, dataframe2 with merged features\n",
    "            new features named as featureCout, featurePercent'''\n",
    "    \n",
    "    temp = df1.groupby([feature]).agg({feature: 'count'})\n",
    "    temp = temp.rename(columns={feature: feature+'Count'})\n",
    "    temp[feature+'Percent'] = temp[feature+'Count'] / (temp[feature+'Count'].sum())\n",
    "    df1 = df1.merge(temp, how = 'left', left_on= feature, right_index = True)\n",
    "    df2 = df2.merge(temp, how = 'left', left_on= feature, right_index = True)   \n",
    "    return df1, df2\n",
    "    \n",
    "train, test = percentCount('zip_code',train, test)\n",
    "train, test = percentCount('violator_name',train, test)\n",
    "train, test = percentCount('inspector_name',train, test)"
   ]
  },
  {
   "cell_type": "markdown",
   "metadata": {},
   "source": [
    "#### Merge training and testing set with a separate coordinate file that contains the lon,lat data given an address"
   ]
  },
  {
   "cell_type": "markdown",
   "metadata": {},
   "source": [
    "Concatenate columns in the training and testing set to match address field in coordinate file"
   ]
  },
  {
   "cell_type": "code",
   "execution_count": 19,
   "metadata": {
    "collapsed": true
   },
   "outputs": [],
   "source": [
    "train['violationAddress'] = train[['violation_street_number', 'violation_street_name']].apply(lambda x: ' '.join(x), axis = 1)\n",
    "test['violationAddress'] = test[['violation_street_number', 'violation_street_name']].apply(lambda x: ' '.join(x), axis = 1)\n",
    "train['violationAddress'] = train['violationAddress'].apply(process_text)\n",
    "test['violationAddress'] = test['violationAddress'].apply(process_text)"
   ]
  },
  {
   "cell_type": "markdown",
   "metadata": {},
   "source": [
    "Text-processing the coordinate file and drop duplicated addresses in the coordinate file"
   ]
  },
  {
   "cell_type": "code",
   "execution_count": 20,
   "metadata": {
    "collapsed": true
   },
   "outputs": [],
   "source": [
    "coord['address'] = coord['address'].map(lambda x: x.split(\",\")[0])\n",
    "coord['address'] = coord['address'].apply(process_text)\n",
    "\n",
    "coord = coord.drop_duplicates(subset=['address'])"
   ]
  },
  {
   "cell_type": "markdown",
   "metadata": {},
   "source": [
    "Merge Coordinate file with the train and test set"
   ]
  },
  {
   "cell_type": "code",
   "execution_count": 21,
   "metadata": {
    "collapsed": true
   },
   "outputs": [],
   "source": [
    "train = train.merge(coord, how = 'left', left_on= 'violationAddress', right_on = 'address')\n",
    "test = test.merge(coord, how = 'left', left_on= 'violationAddress', right_on = 'address')"
   ]
  },
  {
   "cell_type": "markdown",
   "metadata": {},
   "source": [
    "Verify how many addresses in the train and test set were unable to be matched"
   ]
  },
  {
   "cell_type": "code",
   "execution_count": 22,
   "metadata": {},
   "outputs": [
    {
     "name": "stdout",
     "output_type": "stream",
     "text": [
      "violationAddress\n",
      "0\n",
      "address\n",
      "0\n",
      "lat\n",
      "13\n",
      "lon\n",
      "13\n"
     ]
    }
   ],
   "source": [
    "col = (['violationAddress', 'address', 'lat', 'lon'])\n",
    "for feature in col:\n",
    "   print(feature)\n",
    "   print(sum(pd.isnull(test[feature])))"
   ]
  },
  {
   "cell_type": "markdown",
   "metadata": {},
   "source": [
    "For the observations missing 'lon' & 'lat', fill with mean"
   ]
  },
  {
   "cell_type": "code",
   "execution_count": 23,
   "metadata": {
    "collapsed": true
   },
   "outputs": [],
   "source": [
    "meanLat = train['lat'].mean()\n",
    "meanLon = train['lon'].mean()\n",
    "\n",
    "train['lat'].fillna(meanLat, inplace = True)\n",
    "train['lon'].fillna(meanLon, inplace = True)\n",
    "test['lat'].fillna(meanLat, inplace = True)\n",
    "test['lon'].fillna(meanLon, inplace = True)"
   ]
  },
  {
   "cell_type": "markdown",
   "metadata": {},
   "source": [
    "#### Add features relating to dates"
   ]
  },
  {
   "cell_type": "markdown",
   "metadata": {},
   "source": [
    "Number of days between the 'ticket_issued_date' and 'hearing_date'"
   ]
  },
  {
   "cell_type": "code",
   "execution_count": 24,
   "metadata": {
    "collapsed": true
   },
   "outputs": [],
   "source": [
    "train['numDaysToHearing'] = (train['hearing_date']- train['ticket_issued_date']).dt.days\n",
    "test['numDaysToHearing'] = (test['hearing_date']- test['ticket_issued_date']).dt.days"
   ]
  },
  {
   "cell_type": "markdown",
   "metadata": {},
   "source": [
    "Check the number of missing values in 'numDaysToHearing'"
   ]
  },
  {
   "cell_type": "code",
   "execution_count": 25,
   "metadata": {},
   "outputs": [
    {
     "name": "stdout",
     "output_type": "stream",
     "text": [
      "train: 227\n",
      "test: 2197\n"
     ]
    }
   ],
   "source": [
    "print('train:',  train['numDaysToHearing'].isnull().sum())\n",
    "print('test:', test['numDaysToHearing'].isnull().sum())"
   ]
  },
  {
   "cell_type": "markdown",
   "metadata": {},
   "source": [
    "Fill the missing observations in 'numDaysToHearing' with median "
   ]
  },
  {
   "cell_type": "code",
   "execution_count": 26,
   "metadata": {
    "collapsed": true
   },
   "outputs": [],
   "source": [
    "medNumDays = train['numDaysToHearing'].median()\n",
    "train['numDaysToHearing'].fillna(medNumDays, inplace = True)\n",
    "test['numDaysToHearing'].fillna(medNumDays, inplace = True)"
   ]
  },
  {
   "cell_type": "markdown",
   "metadata": {},
   "source": [
    "Add feature relating to the month of dates"
   ]
  },
  {
   "cell_type": "code",
   "execution_count": 27,
   "metadata": {
    "collapsed": true
   },
   "outputs": [],
   "source": [
    "train['hearing_month'] = train['hearing_date'].dt.month\n",
    "train['ticket_issued_month'] = train['ticket_issued_date'].dt.month\n",
    "test['hearing_month'] = test['hearing_date'].dt.month\n",
    "test['ticket_issued_month'] = test['ticket_issued_date'].dt.month"
   ]
  },
  {
   "cell_type": "markdown",
   "metadata": {},
   "source": [
    "Add features relating to weekday of dates"
   ]
  },
  {
   "cell_type": "code",
   "execution_count": 28,
   "metadata": {
    "collapsed": true
   },
   "outputs": [],
   "source": [
    "train['hearing_weekday'] = train['hearing_date'].dt.weekday\n",
    "train['ticket_issued_weekday'] = train['ticket_issued_date'].dt.weekday\n",
    "test['hearing_weekday'] = test['hearing_date'].dt.weekday\n",
    "test['ticket_issued_weekday'] = test['ticket_issued_date'].dt.weekday"
   ]
  },
  {
   "cell_type": "markdown",
   "metadata": {},
   "source": [
    "### Data Exploration"
   ]
  },
  {
   "cell_type": "code",
   "execution_count": 29,
   "metadata": {},
   "outputs": [
    {
     "data": {
      "text/plain": [
       "<seaborn.axisgrid.PairGrid at 0x26032f85da0>"
      ]
     },
     "execution_count": 29,
     "metadata": {},
     "output_type": "execute_result"
    },
    {
     "data": {
      "image/png": "[encoded data removed]",
      "text/plain": [
       "<matplotlib.figure.Figure at 0x260352a3710>"
      ]
     },
     "metadata": {},
     "output_type": "display_data"
    }
   ],
   "source": [
    "cols =  ['fine_amount', 'late_fee', 'discount_amount', 'judgment_amount']\n",
    "sns.pairplot(train[cols])"
   ]
  },
  {
   "cell_type": "code",
   "execution_count": 30,
   "metadata": {},
   "outputs": [
    {
     "data": {
      "image/png": "[encoded data removed]",
      "text/plain": [
       "<matplotlib.figure.Figure at 0x26021fde2e8>"
      ]
     },
     "metadata": {},
     "output_type": "display_data"
    }
   ],
   "source": [
    "train.hist(bins=50, figsize=(12, 12))\n",
    "plt.show()"
   ]
  },
  {
   "cell_type": "code",
   "execution_count": 31,
   "metadata": {},
   "outputs": [
    {
     "data": {
      "text/plain": [
       "<seaborn.axisgrid.FacetGrid at 0x26034e4b588>"
      ]
     },
     "execution_count": 31,
     "metadata": {},
     "output_type": "execute_result"
    },
    {
     "data": {
      "image/png": "[encoded data removed]",
      "text/plain": [
       "<matplotlib.figure.Figure at 0x2602a556f28>"
      ]
     },
     "metadata": {},
     "output_type": "display_data"
    }
   ],
   "source": [
    "trainNumerics = train[['fine_amount', 'late_fee', 'discount_amount', 'judgment_amount', 'compliance']]\n",
    "g = sns.FacetGrid(pd.melt(trainNumerics, id_vars='compliance'), col='compliance')\n",
    "g.map(sns.boxplot, 'value', 'variable')\n"
   ]
  },
  {
   "cell_type": "code",
   "execution_count": 32,
   "metadata": {},
   "outputs": [
    {
     "data": {
      "text/plain": [
       "<matplotlib.axes._subplots.AxesSubplot at 0x2602d205780>"
      ]
     },
     "execution_count": 32,
     "metadata": {},
     "output_type": "execute_result"
    },
    {
     "data": {
      "image/png": "[encoded data removed]",
      "text/plain": [
       "<matplotlib.figure.Figure at 0x2602312d2e8>"
      ]
     },
     "metadata": {},
     "output_type": "display_data"
    }
   ],
   "source": [
    "sns.regplot(x='fine_amount', y='judgment_amount', data=train)"
   ]
  },
  {
   "cell_type": "code",
   "execution_count": 33,
   "metadata": {},
   "outputs": [
    {
     "data": {
      "image/png": "[encoded data removed]",
      "text/plain": [
       "<matplotlib.figure.Figure at 0x2601a1d4ac8>"
      ]
     },
     "metadata": {},
     "output_type": "display_data"
    },
    {
     "data": {
      "image/png": "[encoded data removed]",
      "text/plain": [
       "<matplotlib.figure.Figure at 0x2602cb38da0>"
      ]
     },
     "metadata": {},
     "output_type": "display_data"
    }
   ],
   "source": [
    "for col in ['agency_name', 'disposition']:\n",
    "    sns.countplot(y=col, data=train)  # vertical plot.  Change to y = col for horizontal plot\n",
    "    plt.show()"
   ]
  },
  {
   "cell_type": "code",
   "execution_count": 34,
   "metadata": {},
   "outputs": [
    {
     "data": {
      "text/plain": [
       "<seaborn.axisgrid.FacetGrid at 0x26032f8f160>"
      ]
     },
     "execution_count": 34,
     "metadata": {},
     "output_type": "execute_result"
    },
    {
     "data": {
      "image/png": "[encoded data removed]",
      "text/plain": [
       "<matplotlib.figure.Figure at 0x2602d1cf240>"
      ]
     },
     "metadata": {},
     "output_type": "display_data"
    }
   ],
   "source": [
    "sns.factorplot(y=\"agency_name\", col=\"compliance\", data=train, kind=\"count\", palette=\"Set3\")"
   ]
  },
  {
   "cell_type": "code",
   "execution_count": 35,
   "metadata": {},
   "outputs": [
    {
     "data": {
      "text/plain": [
       "<seaborn.axisgrid.FacetGrid at 0x2602deb0cc0>"
      ]
     },
     "execution_count": 35,
     "metadata": {},
     "output_type": "execute_result"
    },
    {
     "data": {
      "image/png": "[encoded data removed]",
      "text/plain": [
       "<matplotlib.figure.Figure at 0x2602d1c6160>"
      ]
     },
     "metadata": {},
     "output_type": "display_data"
    }
   ],
   "source": [
    "sns.factorplot(y=\"disposition\", col=\"compliance\", data=train, kind=\"count\", palette=\"Set3\")"
   ]
  },
  {
   "cell_type": "code",
   "execution_count": 36,
   "metadata": {},
   "outputs": [
    {
     "data": {
      "image/png": "[encoded data removed]",
      "text/plain": [
       "<matplotlib.figure.Figure at 0x260226582b0>"
      ]
     },
     "metadata": {},
     "output_type": "display_data"
    }
   ],
   "source": [
    "g = sns.FacetGrid(train, col=\"compliance\")\n",
    "g = g.map(plt.scatter, \"lon\", \"lat\", edgecolor=\"w\")"
   ]
  },
  {
   "cell_type": "markdown",
   "metadata": {},
   "source": [
    "### More data clean-up based on exploration"
   ]
  },
  {
   "cell_type": "markdown",
   "metadata": {},
   "source": [
    "#### Combine train and test set for more pre-processing"
   ]
  },
  {
   "cell_type": "code",
   "execution_count": 37,
   "metadata": {
    "collapsed": true
   },
   "outputs": [],
   "source": [
    "train['set'] = 'train'\n",
    "test['set'] = 'test'\n",
    "df = pd.concat([train, test])"
   ]
  },
  {
   "cell_type": "markdown",
   "metadata": {},
   "source": [
    "#### Check for highly correlated features\n",
    "'fine_amount' and 'judgement_amount' looked highly correlated in the plot.   Verify if they are indeed highly correlated and remove if necessary"
   ]
  },
  {
   "cell_type": "code",
   "execution_count": 38,
   "metadata": {},
   "outputs": [
    {
     "data": {
      "text/plain": [
       "0.98193710810739765"
      ]
     },
     "execution_count": 38,
     "metadata": {},
     "output_type": "execute_result"
    }
   ],
   "source": [
    "df['fine_amount'].corr(df['judgment_amount'])"
   ]
  },
  {
   "cell_type": "markdown",
   "metadata": {},
   "source": [
    "#### One-hot encoding for categorical features"
   ]
  },
  {
   "cell_type": "code",
   "execution_count": 39,
   "metadata": {
    "collapsed": true
   },
   "outputs": [],
   "source": [
    "df =  pd.get_dummies(data = df, columns = ['agency_name', 'disposition', 'hearing_month', 'ticket_issued_month', 'hearing_weekday', 'ticket_issued_weekday',\n",
    "                                           'inspector_name', 'violation_code'])"
   ]
  },
  {
   "cell_type": "code",
   "execution_count": 44,
   "metadata": {},
   "outputs": [
    {
     "name": "stdout",
     "output_type": "stream",
     "text": [
      "New dataframe shape:  (220881, 519)\n"
     ]
    }
   ],
   "source": [
    "print('New dataframe shape: ', df.shape)"
   ]
  },
  {
   "cell_type": "markdown",
   "metadata": {},
   "source": [
    "#### Remove sparse columns"
   ]
  },
  {
   "cell_type": "markdown",
   "metadata": {},
   "source": [
    "Remove columns if there are fewer than 50 observations of '1' for the feature"
   ]
  },
  {
   "cell_type": "code",
   "execution_count": 46,
   "metadata": {},
   "outputs": [
    {
     "name": "stdout",
     "output_type": "stream",
     "text": [
      "New dataframe shape:  (220881, 276)\n"
     ]
    }
   ],
   "source": [
    "df = remove_features_fewer_than_count(df, 50)\n",
    "print('New dataframe shape: ', df.shape)"
   ]
  },
  {
   "cell_type": "markdown",
   "metadata": {},
   "source": [
    "Remove columns if the standard deviation of the column is less than 0.001"
   ]
  },
  {
   "cell_type": "code",
   "execution_count": 51,
   "metadata": {},
   "outputs": [
    {
     "name": "stdout",
     "output_type": "stream",
     "text": [
      "New dataframe shape:  (220881, 275)\n"
     ]
    }
   ],
   "source": [
    "df = drop_features_based_on_std_threshold(df, 0.001)\n",
    "print('New dataframe shape: ', df.shape)"
   ]
  },
  {
   "cell_type": "markdown",
   "metadata": {},
   "source": [
    "#### Save a backup of dataframe"
   ]
  },
  {
   "cell_type": "code",
   "execution_count": 143,
   "metadata": {
    "collapsed": true
   },
   "outputs": [],
   "source": [
    "df.to_pickle('df.pkl')"
   ]
  },
  {
   "cell_type": "markdown",
   "metadata": {},
   "source": [
    "#### Re-split data back to train and test"
   ]
  },
  {
   "cell_type": "code",
   "execution_count": 74,
   "metadata": {
    "collapsed": true
   },
   "outputs": [],
   "source": [
    "train  = df.loc[df['set'] == 'train', :]\n",
    "test  = df.loc[df['set'] == 'test', :]"
   ]
  },
  {
   "cell_type": "markdown",
   "metadata": {},
   "source": [
    "#### Remove other unncessary columns"
   ]
  },
  {
   "cell_type": "code",
   "execution_count": null,
   "metadata": {
    "collapsed": true
   },
   "outputs": [],
   "source": [
    "cols = ['violation_street_number', 'violation_street_name', \n",
    "           'mailing_address_str_number', 'mailing_address_str_name', \n",
    "           'city', 'state', 'zip_code', 'country',\n",
    "           'violationAddress', 'address',\n",
    "           'inspector_name','violator_name','violation_description',\n",
    "           'violation_code','agency_name','disposition', 'disposition_responsible compladj by default',\n",
    "           'disposition_responsible compladj by determi', 'disposition_responsible fine waived by admis',\n",
    "           'disposition_responsible fine waived by deter',\n",
    "           'ticket_issued_date', 'hearing_date', 'violator_nameCount', 'zip_codeCount',\n",
    "           'inspector_nameCount']\n",
    "train = remove_columns(train, cols)\n",
    "test = remove_columns(test, cols)"
   ]
  },
  {
   "cell_type": "code",
   "execution_count": 75,
   "metadata": {
    "collapsed": true
   },
   "outputs": [],
   "source": [
    "trainY = train['compliance'].values\n",
    "trainX = train.drop(['compliance','ticket_id', 'set'], axis = 1)\n",
    "testX = test.drop(['compliance','ticket_id','set'], axis = 1)"
   ]
  },
  {
   "cell_type": "markdown",
   "metadata": {},
   "source": [
    "#### Impute missing values using median"
   ]
  },
  {
   "cell_type": "code",
   "execution_count": 76,
   "metadata": {
    "collapsed": true
   },
   "outputs": [],
   "source": [
    "imputer = Imputer(strategy=\"median\")\n",
    "imputer.fit(trainX)\n",
    "trainX = imputer.transform(trainX)  # converts to float64 array \n",
    "testX = imputer.transform(testX)"
   ]
  },
  {
   "cell_type": "markdown",
   "metadata": {},
   "source": [
    "#### Normalize data"
   ]
  },
  {
   "cell_type": "code",
   "execution_count": 79,
   "metadata": {},
   "outputs": [],
   "source": [
    "normalizer = Normalizer(norm='l2', copy=True)\n",
    "normalizer.fit(trainX)\n",
    "trainX = normalizer.transform(trainX)  # converts to float64 array \n",
    "testX = normalizer.transform(testX)"
   ]
  },
  {
   "cell_type": "markdown",
   "metadata": {},
   "source": [
    "#### Split training set into train and validation set"
   ]
  },
  {
   "cell_type": "code",
   "execution_count": 94,
   "metadata": {},
   "outputs": [],
   "source": [
    "X_train, X_valid, y_train, y_valid = train_test_split(trainX, trainY, random_state = 0)"
   ]
  },
  {
   "cell_type": "markdown",
   "metadata": {},
   "source": [
    "### Create Random Forest Model for prediction"
   ]
  },
  {
   "cell_type": "markdown",
   "metadata": {},
   "source": [
    "#### Get baseline performance to beat\n",
    "What the accuracy will be if the model always predict 'non-compliant' where compliance == 0"
   ]
  },
  {
   "cell_type": "code",
   "execution_count": 97,
   "metadata": {},
   "outputs": [
    {
     "data": {
      "text/plain": [
       "0    0.927464\n",
       "1    0.072536\n",
       "Name: compliance, dtype: float64"
      ]
     },
     "execution_count": 97,
     "metadata": {},
     "output_type": "execute_result"
    }
   ],
   "source": [
    "train['compliance'].value_counts()/len(train)"
   ]
  },
  {
   "cell_type": "markdown",
   "metadata": {},
   "source": [
    "#### Get baseline performance of a random forest model"
   ]
  },
  {
   "cell_type": "code",
   "execution_count": 98,
   "metadata": {},
   "outputs": [
    {
     "name": "stdout",
     "output_type": "stream",
     "text": [
      "The accuracy of training set is:  0.990451171712\n",
      "The accuracy of validation set is:  0.941055791844\n"
     ]
    }
   ],
   "source": [
    "rf = RandomForestClassifier(random_state = 0)\n",
    "rf.fit(X_train, y_train)\n",
    "print(\"The accuracy of training set is: \", rf.score(X_train, y_train))\n",
    "print(\"The accuracy of validation set is: \", rf.score(X_valid, y_valid))"
   ]
  },
  {
   "cell_type": "markdown",
   "metadata": {},
   "source": [
    "#### Variable importance of the baseline random forest model"
   ]
  },
  {
   "cell_type": "code",
   "execution_count": 99,
   "metadata": {},
   "outputs": [
    {
     "data": {
      "text/plain": [
       "<matplotlib.axes._subplots.AxesSubplot at 0x26022cc1cc0>"
      ]
     },
     "execution_count": 99,
     "metadata": {},
     "output_type": "execute_result"
    },
    {
     "data": {
      "image/png": "[encoded data removed]",
      "text/plain": [
       "<matplotlib.figure.Figure at 0x2602a29c278>"
      ]
     },
     "metadata": {},
     "output_type": "display_data"
    }
   ],
   "source": [
    "varImp = rf.feature_importances_\n",
    "varImpDf = pd.DataFrame(data= varImp, index=train.drop(['compliance','ticket_id', 'set'], axis = 1).columns)\n",
    "varImpDf.reset_index(inplace=True)\n",
    "varImpDf = varImpDf.sort_values([0], ascending = False).reset_index(drop = True)\n",
    "varImpDf= varImpDf.rename(columns={'index':'feature', 0:\"importance\"})\n",
    "\n",
    "sns.barplot(x=\"importance\", y=\"feature\", data=varImpDf.iloc[0:20,])"
   ]
  },
  {
   "cell_type": "markdown",
   "metadata": {},
   "source": [
    "#### Closer look at a few features"
   ]
  },
  {
   "cell_type": "code",
   "execution_count": 164,
   "metadata": {},
   "outputs": [
    {
     "data": {
      "image/png": "[encoded data removed]",
      "text/plain": [
       "<matplotlib.figure.Figure at 0x2603725bc88>"
      ]
     },
     "metadata": {},
     "output_type": "display_data"
    }
   ],
   "source": [
    "g = sns.FacetGrid(train, col=\"compliance\")\n",
    "g = g.map(plt.hist, \"late_fee\", bins = 50)"
   ]
  },
  {
   "cell_type": "code",
   "execution_count": 165,
   "metadata": {},
   "outputs": [
    {
     "data": {
      "image/png": "[encoded data removed]",
      "text/plain": [
       "<matplotlib.figure.Figure at 0x2603f61ecf8>"
      ]
     },
     "metadata": {},
     "output_type": "display_data"
    }
   ],
   "source": [
    "test['late_fee'].hist(bins=50)\n",
    "plt.show()"
   ]
  },
  {
   "cell_type": "code",
   "execution_count": 114,
   "metadata": {},
   "outputs": [
    {
     "data": {
      "image/png": "[encoded data removed]",
      "text/plain": [
       "<matplotlib.figure.Figure at 0x2606023eb70>"
      ]
     },
     "metadata": {},
     "output_type": "display_data"
    }
   ],
   "source": [
    "g = sns.FacetGrid(train, col=\"compliance\")\n",
    "g = g.map(plt.hist, \"judgment_amount\", bins = 50)"
   ]
  },
  {
   "cell_type": "code",
   "execution_count": 129,
   "metadata": {},
   "outputs": [
    {
     "data": {
      "image/png": "[encoded data removed]",
      "text/plain": [
       "<matplotlib.figure.Figure at 0x260852d2cf8>"
      ]
     },
     "metadata": {},
     "output_type": "display_data"
    }
   ],
   "source": [
    "g = sns.FacetGrid(train, col=\"compliance\")\n",
    "g = g.map(plt.hist, \"numDaysToHearing\", bins = 50)"
   ]
  },
  {
   "cell_type": "markdown",
   "metadata": {},
   "source": [
    "#### Try a few randomized search parameters to see if performance of baseline model can be beaten"
   ]
  },
  {
   "cell_type": "code",
   "execution_count": 130,
   "metadata": {},
   "outputs": [
    {
     "name": "stdout",
     "output_type": "stream",
     "text": [
      "Fitting 3 folds for each of 3 candidates, totalling 9 fits\n"
     ]
    },
    {
     "name": "stderr",
     "output_type": "stream",
     "text": [
      "[Parallel(n_jobs=3)]: Done   9 out of   9 | elapsed: 439.7min remaining:    0.0s\n",
      "[Parallel(n_jobs=3)]: Done   9 out of   9 | elapsed: 439.7min finished\n"
     ]
    },
    {
     "data": {
      "text/plain": [
       "RandomizedSearchCV(cv=None, error_score='raise',\n",
       "          estimator=RandomForestClassifier(bootstrap=True, class_weight=None, criterion='gini',\n",
       "            max_depth=None, max_features='auto', max_leaf_nodes=None,\n",
       "            min_impurity_split=1e-07, min_samples_leaf=1,\n",
       "            min_samples_split=2, min_weight_fraction_leaf=0.0,\n",
       "            n_estimators=10, n_jobs=1, oob_score=False, random_state=0,\n",
       "            verbose=0, warm_start=False),\n",
       "          fit_params={}, iid=True, n_iter=3, n_jobs=3,\n",
       "          param_distributions={'n_estimators': [1000], 'max_depth': [50, 75, 100], 'max_features': [0.5, 0.75]},\n",
       "          pre_dispatch='2*n_jobs', random_state=0, refit=True,\n",
       "          return_train_score=True, scoring='accuracy', verbose=2)"
      ]
     },
     "execution_count": 130,
     "metadata": {},
     "output_type": "execute_result"
    }
   ],
   "source": [
    "param_distribs = {\n",
    "        'n_estimators': [1000], # number of trees you want to build before taking the maximum voting\n",
    "        'max_depth': [50, 75, 100], # \n",
    "        'max_features': [0.5, 0.75] #maximum number of features Random Forest is allowed to try in individual tree\n",
    "        }\n",
    "\n",
    "rnd_search = RandomizedSearchCV(rf, \n",
    "                                param_distributions=param_distribs,\n",
    "                                n_iter=3,  #Number of parameter settings that are sampled\n",
    "                                scoring='accuracy',  \n",
    "                                #cv = 5, \n",
    "                                verbose=2, \n",
    "                                n_jobs=3, #Number of jobs to run in parallel\n",
    "                                random_state=0)\n",
    "\n",
    "\n",
    "rnd_search.fit(X_train, y_train)"
   ]
  },
  {
   "cell_type": "markdown",
   "metadata": {},
   "source": [
    "#### The best parameters from the randomized search:"
   ]
  },
  {
   "cell_type": "code",
   "execution_count": 131,
   "metadata": {},
   "outputs": [
    {
     "name": "stdout",
     "output_type": "stream",
     "text": [
      "best parameters:  {'n_estimators': 1000, 'max_features': 0.75, 'max_depth': 50}\n",
      "best estimator:  RandomForestClassifier(bootstrap=True, class_weight=None, criterion='gini',\n",
      "            max_depth=50, max_features=0.75, max_leaf_nodes=None,\n",
      "            min_impurity_split=1e-07, min_samples_leaf=1,\n",
      "            min_samples_split=2, min_weight_fraction_leaf=0.0,\n",
      "            n_estimators=1000, n_jobs=1, oob_score=False, random_state=0,\n",
      "            verbose=0, warm_start=False)\n"
     ]
    }
   ],
   "source": [
    "print(\"best parameters: \", rnd_search.best_params_ )\n",
    "print(\"best estimator: \", rnd_search.best_estimator_)"
   ]
  },
  {
   "cell_type": "markdown",
   "metadata": {},
   "source": [
    "#### Save the cv results to a dataframe"
   ]
  },
  {
   "cell_type": "code",
   "execution_count": 132,
   "metadata": {},
   "outputs": [
    {
     "name": "stdout",
     "output_type": "stream",
     "text": [
      "validation score: 0.944683512634\n"
     ]
    }
   ],
   "source": [
    "cvResult = pd.DataFrame(rnd_search.cv_results_)\n",
    "print(\"validation score:\" ,rnd_search.score(X_valid, y_valid)) "
   ]
  },
  {
   "cell_type": "code",
   "execution_count": 133,
   "metadata": {},
   "outputs": [
    {
     "data": {
      "text/html": [
       "<div>\n",
       "<style>\n",
       "    .dataframe thead tr:only-child th {\n",
       "        text-align: right;\n",
       "    }\n",
       "\n",
       "    .dataframe thead th {\n",
       "        text-align: left;\n",
       "    }\n",
       "\n",
       "    .dataframe tbody tr th {\n",
       "        vertical-align: top;\n",
       "    }\n",
       "</style>\n",
       "<table border=\"1\" class=\"dataframe\">\n",
       "  <thead>\n",
       "    <tr style=\"text-align: right;\">\n",
       "      <th></th>\n",
       "      <th>mean_fit_time</th>\n",
       "      <th>mean_score_time</th>\n",
       "      <th>mean_test_score</th>\n",
       "      <th>mean_train_score</th>\n",
       "      <th>param_max_depth</th>\n",
       "      <th>param_max_features</th>\n",
       "      <th>param_n_estimators</th>\n",
       "      <th>params</th>\n",
       "      <th>rank_test_score</th>\n",
       "      <th>split0_test_score</th>\n",
       "      <th>split0_train_score</th>\n",
       "      <th>split1_test_score</th>\n",
       "      <th>split1_train_score</th>\n",
       "      <th>split2_test_score</th>\n",
       "      <th>split2_train_score</th>\n",
       "      <th>std_fit_time</th>\n",
       "      <th>std_score_time</th>\n",
       "      <th>std_test_score</th>\n",
       "      <th>std_train_score</th>\n",
       "    </tr>\n",
       "  </thead>\n",
       "  <tbody>\n",
       "    <tr>\n",
       "      <th>0</th>\n",
       "      <td>10164.145866</td>\n",
       "      <td>16.984204</td>\n",
       "      <td>0.941323</td>\n",
       "      <td>0.999946</td>\n",
       "      <td>100</td>\n",
       "      <td>0.75</td>\n",
       "      <td>1000</td>\n",
       "      <td>{'n_estimators': 1000, 'max_features': 0.75, '...</td>\n",
       "      <td>3</td>\n",
       "      <td>0.941408</td>\n",
       "      <td>0.999950</td>\n",
       "      <td>0.940530</td>\n",
       "      <td>0.999950</td>\n",
       "      <td>0.942030</td>\n",
       "      <td>0.999937</td>\n",
       "      <td>245.142188</td>\n",
       "      <td>0.566821</td>\n",
       "      <td>0.000615</td>\n",
       "      <td>0.000006</td>\n",
       "    </tr>\n",
       "    <tr>\n",
       "      <th>1</th>\n",
       "      <td>6564.407771</td>\n",
       "      <td>16.550266</td>\n",
       "      <td>0.941940</td>\n",
       "      <td>0.999850</td>\n",
       "      <td>75</td>\n",
       "      <td>0.5</td>\n",
       "      <td>1000</td>\n",
       "      <td>{'n_estimators': 1000, 'max_features': 0.5, 'm...</td>\n",
       "      <td>2</td>\n",
       "      <td>0.942083</td>\n",
       "      <td>0.999950</td>\n",
       "      <td>0.941156</td>\n",
       "      <td>0.999950</td>\n",
       "      <td>0.942580</td>\n",
       "      <td>0.999650</td>\n",
       "      <td>134.224390</td>\n",
       "      <td>0.360168</td>\n",
       "      <td>0.000590</td>\n",
       "      <td>0.000142</td>\n",
       "    </tr>\n",
       "    <tr>\n",
       "      <th>2</th>\n",
       "      <td>9026.809114</td>\n",
       "      <td>13.283569</td>\n",
       "      <td>0.943858</td>\n",
       "      <td>0.986903</td>\n",
       "      <td>50</td>\n",
       "      <td>0.75</td>\n",
       "      <td>1000</td>\n",
       "      <td>{'n_estimators': 1000, 'max_features': 0.75, '...</td>\n",
       "      <td>1</td>\n",
       "      <td>0.944260</td>\n",
       "      <td>0.987128</td>\n",
       "      <td>0.943107</td>\n",
       "      <td>0.988229</td>\n",
       "      <td>0.944207</td>\n",
       "      <td>0.985352</td>\n",
       "      <td>44.997939</td>\n",
       "      <td>1.825938</td>\n",
       "      <td>0.000531</td>\n",
       "      <td>0.001185</td>\n",
       "    </tr>\n",
       "  </tbody>\n",
       "</table>\n",
       "</div>"
      ],
      "text/plain": [
       "   mean_fit_time  mean_score_time  mean_test_score  mean_train_score  \\\n",
       "0   10164.145866        16.984204         0.941323          0.999946   \n",
       "1    6564.407771        16.550266         0.941940          0.999850   \n",
       "2    9026.809114        13.283569         0.943858          0.986903   \n",
       "\n",
       "  param_max_depth param_max_features param_n_estimators  \\\n",
       "0             100               0.75               1000   \n",
       "1              75                0.5               1000   \n",
       "2              50               0.75               1000   \n",
       "\n",
       "                                              params  rank_test_score  \\\n",
       "0  {'n_estimators': 1000, 'max_features': 0.75, '...                3   \n",
       "1  {'n_estimators': 1000, 'max_features': 0.5, 'm...                2   \n",
       "2  {'n_estimators': 1000, 'max_features': 0.75, '...                1   \n",
       "\n",
       "   split0_test_score  split0_train_score  split1_test_score  \\\n",
       "0           0.941408            0.999950           0.940530   \n",
       "1           0.942083            0.999950           0.941156   \n",
       "2           0.944260            0.987128           0.943107   \n",
       "\n",
       "   split1_train_score  split2_test_score  split2_train_score  std_fit_time  \\\n",
       "0            0.999950           0.942030            0.999937    245.142188   \n",
       "1            0.999950           0.942580            0.999650    134.224390   \n",
       "2            0.988229           0.944207            0.985352     44.997939   \n",
       "\n",
       "   std_score_time  std_test_score  std_train_score  \n",
       "0        0.566821        0.000615         0.000006  \n",
       "1        0.360168        0.000590         0.000142  \n",
       "2        1.825938        0.000531         0.001185  "
      ]
     },
     "execution_count": 133,
     "metadata": {},
     "output_type": "execute_result"
    }
   ],
   "source": [
    "cvResult"
   ]
  },
  {
   "cell_type": "markdown",
   "metadata": {},
   "source": [
    "The model is over-fitting.  The n_estimators probably does not need to be 1000 trees.  A much lower number of trees gives similar results and will reduce training time significantly.  "
   ]
  },
  {
   "cell_type": "markdown",
   "metadata": {},
   "source": [
    "#### Feature importance of the model"
   ]
  },
  {
   "cell_type": "markdown",
   "metadata": {},
   "source": [
    "Save best model as final model"
   ]
  },
  {
   "cell_type": "code",
   "execution_count": 148,
   "metadata": {},
   "outputs": [
    {
     "data": {
      "text/plain": [
       "['final_model.pkl']"
      ]
     },
     "execution_count": 148,
     "metadata": {},
     "output_type": "execute_result"
    }
   ],
   "source": [
    "final_model = rnd_search.best_estimator_\n",
    "joblib.dump(final_model, 'final_model.pkl') "
   ]
  },
  {
   "cell_type": "code",
   "execution_count": 154,
   "metadata": {},
   "outputs": [],
   "source": [
    "varImpRnd = final_model.feature_importances_\n",
    "varImpDfRnd = pd.DataFrame(data= varImp, index=train.drop(['compliance','ticket_id', 'set'], axis = 1).columns)\n",
    "varImpDfRnd.reset_index(inplace=True)\n",
    "varImpDfRnd = varImpDfRnd.sort_values([0], ascending = False).reset_index(drop = True)\n",
    "varImpDfRnd = varImpDfRnd.rename(columns={'index':'feature', 0:\"importance\"})"
   ]
  },
  {
   "cell_type": "code",
   "execution_count": 156,
   "metadata": {},
   "outputs": [
    {
     "data": {
      "text/plain": [
       "<matplotlib.axes._subplots.AxesSubplot at 0x26047ace470>"
      ]
     },
     "execution_count": 156,
     "metadata": {},
     "output_type": "execute_result"
    },
    {
     "data": {
      "image/png": "[encoded data removed]",
      "text/plain": [
       "<matplotlib.figure.Figure at 0x26047af6ac8>"
      ]
     },
     "metadata": {},
     "output_type": "display_data"
    }
   ],
   "source": [
    "sns.barplot(x=\"importance\", y=\"feature\", data=varImpDfRnd.iloc[0:20,])"
   ]
  },
  {
   "cell_type": "code",
   "execution_count": 158,
   "metadata": {},
   "outputs": [
    {
     "data": {
      "text/plain": [
       "<matplotlib.axes._subplots.AxesSubplot at 0x26084f73550>"
      ]
     },
     "execution_count": 158,
     "metadata": {},
     "output_type": "execute_result"
    },
    {
     "data": {
      "image/png": "[encoded data removed]",
      "text/plain": [
       "<matplotlib.figure.Figure at 0x26032fb2c88>"
      ]
     },
     "metadata": {},
     "output_type": "display_data"
    }
   ],
   "source": [
    "sns.barplot(x=\"importance\", y=\"feature\", data=varImpDfRnd.iloc[21:40,])"
   ]
  },
  {
   "cell_type": "markdown",
   "metadata": {},
   "source": [
    "What are the least important features?"
   ]
  },
  {
   "cell_type": "code",
   "execution_count": 153,
   "metadata": {},
   "outputs": [
    {
     "data": {
      "text/plain": [
       "<matplotlib.axes._subplots.AxesSubplot at 0x260394504a8>"
      ]
     },
     "execution_count": 153,
     "metadata": {},
     "output_type": "execute_result"
    },
    {
     "data": {
      "image/png": "[encoded data removed]",
      "text/plain": [
       "<matplotlib.figure.Figure at 0x26029e1db00>"
      ]
     },
     "metadata": {},
     "output_type": "display_data"
    }
   ],
   "source": [
    "sns.barplot(x=\"importance\", y=\"feature\", data=varImpDfRnd.iloc[-20:-1,])"
   ]
  },
  {
   "cell_type": "markdown",
   "metadata": {},
   "source": [
    "#### Get prediction using the best estimator from the randomized search"
   ]
  },
  {
   "cell_type": "code",
   "execution_count": 142,
   "metadata": {
    "collapsed": true
   },
   "outputs": [],
   "source": [
    "yPred =  final_model.predict(testX)\n",
    "yProb = final_model.predict_proba(testX)[:,1]\n",
    "submission = pd.Series(yProb, index = test['ticket_id'])"
   ]
  },
  {
   "cell_type": "code",
   "execution_count": 166,
   "metadata": {},
   "outputs": [
    {
     "data": {
      "text/plain": [
       "ticket_id\n",
       "284932    0.296790\n",
       "285362    0.000989\n",
       "285361    0.016064\n",
       "285338    0.109827\n",
       "285346    0.030135\n",
       "dtype: float64"
      ]
     },
     "execution_count": 166,
     "metadata": {},
     "output_type": "execute_result"
    }
   ],
   "source": [
    "submission.head()"
   ]
  }
 ],
 "metadata": {
  "kernelspec": {
   "display_name": "Python 3",
   "language": "python",
   "name": "python3"
  },
  "language_info": {
   "codemirror_mode": {
    "name": "ipython",
    "version": 3
   },
   "file_extension": ".py",
   "mimetype": "text/x-python",
   "name": "python",
   "nbconvert_exporter": "python",
   "pygments_lexer": "ipython3",
   "version": "3.6.1"
  }
 },
 "nbformat": 4,
 "nbformat_minor": 2
}
